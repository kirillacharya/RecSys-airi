{
 "cells": [
  {
   "cell_type": "code",
   "execution_count": 28,
   "id": "2a139907",
   "metadata": {},
   "outputs": [],
   "source": [
    "import json\n",
    "import os\n",
    "import typing as tp\n",
    "from datetime import date, datetime\n",
    "\n",
    "import numpy as np\n",
    "import optuna\n",
    "import pandas as pd\n",
    "# from common_metrics.metrics.recsys import MAP, HitRate, NDCG, PrecisionRecall\n",
    "from loguru import logger\n",
    "from scipy import sparse\n",
    "from sklearn.preprocessing import normalize\n",
    "from tqdm import tqdm"
   ]
  },
  {
   "cell_type": "code",
   "execution_count": 29,
   "id": "60cbf084",
   "metadata": {},
   "outputs": [],
   "source": [
    "train1 = pd.read_csv('../data/train1level.csv')\n",
    "test1 = pd.read_csv('../data/test1level.csv')\n",
    "holdout1 = pd.read_csv('../data/holdout1level.csv')"
   ]
  },
  {
   "cell_type": "code",
   "execution_count": 30,
   "id": "0389b7ff",
   "metadata": {},
   "outputs": [],
   "source": [
    "# train1 = train1[train1.rating >= 3]"
   ]
  },
  {
   "cell_type": "code",
   "execution_count": 31,
   "id": "d789ed42",
   "metadata": {},
   "outputs": [
    {
     "data": {
      "text/html": [
       "<div>\n",
       "<style scoped>\n",
       "    .dataframe tbody tr th:only-of-type {\n",
       "        vertical-align: middle;\n",
       "    }\n",
       "\n",
       "    .dataframe tbody tr th {\n",
       "        vertical-align: top;\n",
       "    }\n",
       "\n",
       "    .dataframe thead th {\n",
       "        text-align: right;\n",
       "    }\n",
       "</style>\n",
       "<table border=\"1\" class=\"dataframe\">\n",
       "  <thead>\n",
       "    <tr style=\"text-align: right;\">\n",
       "      <th></th>\n",
       "      <th>userid</th>\n",
       "      <th>movieid</th>\n",
       "      <th>rating</th>\n",
       "      <th>timestamp</th>\n",
       "    </tr>\n",
       "  </thead>\n",
       "  <tbody>\n",
       "    <tr>\n",
       "      <th>0</th>\n",
       "      <td>0</td>\n",
       "      <td>120</td>\n",
       "      <td>5.0</td>\n",
       "      <td>838985046</td>\n",
       "    </tr>\n",
       "    <tr>\n",
       "      <th>1</th>\n",
       "      <td>0</td>\n",
       "      <td>183</td>\n",
       "      <td>5.0</td>\n",
       "      <td>838983525</td>\n",
       "    </tr>\n",
       "    <tr>\n",
       "      <th>2</th>\n",
       "      <td>0</td>\n",
       "      <td>228</td>\n",
       "      <td>5.0</td>\n",
       "      <td>838983392</td>\n",
       "    </tr>\n",
       "    <tr>\n",
       "      <th>3</th>\n",
       "      <td>0</td>\n",
       "      <td>289</td>\n",
       "      <td>5.0</td>\n",
       "      <td>838983421</td>\n",
       "    </tr>\n",
       "    <tr>\n",
       "      <th>4</th>\n",
       "      <td>0</td>\n",
       "      <td>313</td>\n",
       "      <td>5.0</td>\n",
       "      <td>838983392</td>\n",
       "    </tr>\n",
       "  </tbody>\n",
       "</table>\n",
       "</div>"
      ],
      "text/plain": [
       "   userid  movieid  rating  timestamp\n",
       "0       0      120     5.0  838985046\n",
       "1       0      183     5.0  838983525\n",
       "2       0      228     5.0  838983392\n",
       "3       0      289     5.0  838983421\n",
       "4       0      313     5.0  838983392"
      ]
     },
     "execution_count": 31,
     "metadata": {},
     "output_type": "execute_result"
    }
   ],
   "source": [
    "train1.head()"
   ]
  },
  {
   "cell_type": "code",
   "execution_count": 32,
   "id": "8a8dcaa8",
   "metadata": {},
   "outputs": [
    {
     "data": {
      "text/html": [
       "<div>\n",
       "<style scoped>\n",
       "    .dataframe tbody tr th:only-of-type {\n",
       "        vertical-align: middle;\n",
       "    }\n",
       "\n",
       "    .dataframe tbody tr th {\n",
       "        vertical-align: top;\n",
       "    }\n",
       "\n",
       "    .dataframe thead th {\n",
       "        text-align: right;\n",
       "    }\n",
       "</style>\n",
       "<table border=\"1\" class=\"dataframe\">\n",
       "  <thead>\n",
       "    <tr style=\"text-align: right;\">\n",
       "      <th></th>\n",
       "      <th>userid</th>\n",
       "      <th>movieid</th>\n",
       "      <th>rating</th>\n",
       "      <th>timestamp</th>\n",
       "    </tr>\n",
       "  </thead>\n",
       "  <tbody>\n",
       "    <tr>\n",
       "      <th>0</th>\n",
       "      <td>0</td>\n",
       "      <td>581</td>\n",
       "      <td>3.0</td>\n",
       "      <td>1208670024</td>\n",
       "    </tr>\n",
       "    <tr>\n",
       "      <th>1</th>\n",
       "      <td>0</td>\n",
       "      <td>9753</td>\n",
       "      <td>5.0</td>\n",
       "      <td>1208669800</td>\n",
       "    </tr>\n",
       "    <tr>\n",
       "      <th>2</th>\n",
       "      <td>0</td>\n",
       "      <td>9435</td>\n",
       "      <td>2.0</td>\n",
       "      <td>1208669698</td>\n",
       "    </tr>\n",
       "    <tr>\n",
       "      <th>3</th>\n",
       "      <td>0</td>\n",
       "      <td>9392</td>\n",
       "      <td>5.0</td>\n",
       "      <td>1208669977</td>\n",
       "    </tr>\n",
       "    <tr>\n",
       "      <th>4</th>\n",
       "      <td>0</td>\n",
       "      <td>9391</td>\n",
       "      <td>0.5</td>\n",
       "      <td>1208669967</td>\n",
       "    </tr>\n",
       "  </tbody>\n",
       "</table>\n",
       "</div>"
      ],
      "text/plain": [
       "   userid  movieid  rating   timestamp\n",
       "0       0      581     3.0  1208670024\n",
       "1       0     9753     5.0  1208669800\n",
       "2       0     9435     2.0  1208669698\n",
       "3       0     9392     5.0  1208669977\n",
       "4       0     9391     0.5  1208669967"
      ]
     },
     "execution_count": 32,
     "metadata": {},
     "output_type": "execute_result"
    }
   ],
   "source": [
    "test1.head()"
   ]
  },
  {
   "cell_type": "code",
   "execution_count": 33,
   "id": "899dc9a5",
   "metadata": {},
   "outputs": [
    {
     "data": {
      "text/html": [
       "<div>\n",
       "<style scoped>\n",
       "    .dataframe tbody tr th:only-of-type {\n",
       "        vertical-align: middle;\n",
       "    }\n",
       "\n",
       "    .dataframe tbody tr th {\n",
       "        vertical-align: top;\n",
       "    }\n",
       "\n",
       "    .dataframe thead th {\n",
       "        text-align: right;\n",
       "    }\n",
       "</style>\n",
       "<table border=\"1\" class=\"dataframe\">\n",
       "  <thead>\n",
       "    <tr style=\"text-align: right;\">\n",
       "      <th></th>\n",
       "      <th>userid</th>\n",
       "      <th>movieid</th>\n",
       "      <th>rating</th>\n",
       "      <th>timestamp</th>\n",
       "    </tr>\n",
       "  </thead>\n",
       "  <tbody>\n",
       "    <tr>\n",
       "      <th>0</th>\n",
       "      <td>0</td>\n",
       "      <td>6157</td>\n",
       "      <td>3.0</td>\n",
       "      <td>1208670181</td>\n",
       "    </tr>\n",
       "    <tr>\n",
       "      <th>1</th>\n",
       "      <td>1</td>\n",
       "      <td>4448</td>\n",
       "      <td>4.0</td>\n",
       "      <td>1199221172</td>\n",
       "    </tr>\n",
       "    <tr>\n",
       "      <th>2</th>\n",
       "      <td>2</td>\n",
       "      <td>9503</td>\n",
       "      <td>4.5</td>\n",
       "      <td>1188713380</td>\n",
       "    </tr>\n",
       "    <tr>\n",
       "      <th>3</th>\n",
       "      <td>3</td>\n",
       "      <td>5907</td>\n",
       "      <td>3.0</td>\n",
       "      <td>1190232446</td>\n",
       "    </tr>\n",
       "    <tr>\n",
       "      <th>4</th>\n",
       "      <td>4</td>\n",
       "      <td>7635</td>\n",
       "      <td>2.5</td>\n",
       "      <td>1192190218</td>\n",
       "    </tr>\n",
       "  </tbody>\n",
       "</table>\n",
       "</div>"
      ],
      "text/plain": [
       "   userid  movieid  rating   timestamp\n",
       "0       0     6157     3.0  1208670181\n",
       "1       1     4448     4.0  1199221172\n",
       "2       2     9503     4.5  1188713380\n",
       "3       3     5907     3.0  1190232446\n",
       "4       4     7635     2.5  1192190218"
      ]
     },
     "execution_count": 33,
     "metadata": {},
     "output_type": "execute_result"
    }
   ],
   "source": [
    "holdout1.head()"
   ]
  },
  {
   "cell_type": "code",
   "execution_count": 34,
   "id": "2aa09164",
   "metadata": {},
   "outputs": [],
   "source": [
    "items = train1.movieid.unique()\n",
    "test1 = test1[test1.movieid.isin(items)]\n",
    "holdout1 = holdout1[holdout1.movieid.isin(items)]\n",
    "users_test = test1.userid.unique()\n",
    "holdout1 = holdout1[holdout1.userid.isin(users_test)]"
   ]
  },
  {
   "cell_type": "code",
   "execution_count": 35,
   "id": "c97bd857",
   "metadata": {},
   "outputs": [],
   "source": [
    "from sklearn import preprocessing\n",
    "item_encoder =  preprocessing.LabelEncoder()\n",
    "train1.movieid = item_encoder.fit_transform(train1.movieid)\n",
    "test1.movieid = item_encoder.transform(test1.movieid)\n",
    "holdout1.movieid = item_encoder.transform(holdout1.movieid)\n",
    "\n",
    "train_user_encoder = preprocessing.LabelEncoder()\n",
    "test_hold_u_encod = preprocessing.LabelEncoder()\n",
    "train1.userid = train_user_encoder.fit_transform(train1.userid)\n",
    "test1.userid = test_hold_u_encod.fit_transform(test1.userid)\n",
    "holdout1.userid = test_hold_u_encod.transform(holdout1.userid)"
   ]
  },
  {
   "cell_type": "code",
   "execution_count": 36,
   "id": "b83a1a55",
   "metadata": {},
   "outputs": [],
   "source": [
    "traint1 = train1.reset_index(drop=True)\n",
    "test1 = test1.reset_index(drop=True)\n",
    "holdout1 = holdout1.reset_index(drop=True)"
   ]
  },
  {
   "cell_type": "code",
   "execution_count": 37,
   "id": "a045ee34",
   "metadata": {},
   "outputs": [],
   "source": [
    "def load_train_data(\n",
    "        train_data: pd.DataFrame\n",
    ") -> sparse.csr_matrix:\n",
    "    \"\"\"\n",
    "    Creates csr_matrix for train\n",
    "    \"\"\"\n",
    "    \n",
    "    n_items = max(train_data.movieid) + 1\n",
    "    n_users = max(train_data.userid) + 1\n",
    "    rows, cols = train_data[\"userid\"], train_data[\"movieid\"]\n",
    "    data = sparse.csr_matrix((np.ones_like(rows), (rows, cols)), dtype=\"float64\", shape=(n_users, n_items))\n",
    "    return data"
   ]
  },
  {
   "cell_type": "code",
   "execution_count": 38,
   "id": "45718ffe",
   "metadata": {},
   "outputs": [
    {
     "name": "stderr",
     "output_type": "stream",
     "text": [
      "2022-07-13 16:07:33.276 | INFO     | __main__:<cell line: 7>:7 - data ready\n"
     ]
    }
   ],
   "source": [
    "# n_items = max(max(train1.movieid), max(test1.movieid)) + 1\n",
    "# n_users = max(max(train1.userid), max(test1.userid)) + 1\n",
    "\n",
    "data = load_train_data(train1)\n",
    "test = load_train_data(test1)\n",
    "\n",
    "logger.info(\"data ready\")"
   ]
  },
  {
   "cell_type": "code",
   "execution_count": 39,
   "id": "60c916e9",
   "metadata": {},
   "outputs": [],
   "source": [
    "assert data.shape[1] == test.shape[1]"
   ]
  },
  {
   "cell_type": "code",
   "execution_count": 40,
   "id": "782c7e4f",
   "metadata": {},
   "outputs": [],
   "source": [
    "def tune(\n",
    "     train: sparse.csr_matrix, test: np.ndarray, holdout: pd.DataFrame,\n",
    "    n_trials_ease: int = 25\n",
    ") -> tp.Tuple[np.matrix, int]:\n",
    "    logger.info(\"start tuning\")\n",
    "\n",
    "    def objective(trial):\n",
    "        params_for_tune = {\n",
    "            \"reg_weight\": trial.suggest_int(\"reg_weight\", low=1, high=500)\n",
    "        }\n",
    "    \n",
    "        item_matrix = fit_ease(train, params_for_tune[\"reg_weight\"])\n",
    "        scores = predict(test.toarray(), item_matrix)\n",
    "        metric = HR(scores, holdout)\n",
    "        return metric\n",
    "\n",
    "    study = optuna.create_study(study_name=\"ease\", direction=\"maximize\")\n",
    "    study.optimize(objective, n_trials=n_trials_ease, n_jobs=1)\n",
    "    logger.info(\"end tuning\")\n",
    "    trial = study.best_trial\n",
    "    reg_weight = trial.params['reg_weight']\n",
    "    item_matrix = fit_ease(train, reg_weight)\n",
    "    return item_matrix, reg_weight"
   ]
  },
  {
   "cell_type": "code",
   "execution_count": 41,
   "id": "df65f239",
   "metadata": {},
   "outputs": [],
   "source": [
    "def fit_ease(\n",
    "    train: sparse.csr_matrix, reg_weight: int\n",
    ") -> np.ndarray:\n",
    "    \"\"\"\n",
    "    Counts item_matrix for future predictions\n",
    "    \"\"\"\n",
    "    logger.info(\"start fitting\")\n",
    "    X = train\n",
    "#     if cfg.norm:\n",
    "    logger.info(\"normalize\")\n",
    "    X = normalize(X, norm=\"l2\", axis=1)\n",
    "    X = normalize(X, norm=\"l2\", axis=0)\n",
    "    X = sparse.csr_matrix(X)\n",
    "    # gram matrix\n",
    "    logger.info(\"gram matrix\")\n",
    "    G = X.T @ X\n",
    "    # add reg to diagonal\n",
    "    G += reg_weight * sparse.identity(G.shape[0])\n",
    "    # convert to dense because inverse will be dense\n",
    "    G = G.todense()\n",
    "    # invert. this takes most of the time\n",
    "    logger.info(\"invert\")\n",
    "    P = np.linalg.inv(G)\n",
    "    B = P / (-np.diag(P))\n",
    "    # zero out diag\n",
    "    np.fill_diagonal(B, 0.0)\n",
    "    item_matrix = B\n",
    "    return item_matrix"
   ]
  },
  {
   "cell_type": "code",
   "execution_count": 42,
   "id": "0c2fdb79",
   "metadata": {},
   "outputs": [],
   "source": [
    "def predict(\n",
    "        data: np.ndarray, item_matrix: np.ndarray, remove_seen: bool = True\n",
    ") -> np.ndarray:\n",
    "    \"\"\"\n",
    "    Counts scores\n",
    "    \"\"\"\n",
    "    scores = data.dot(item_matrix)\n",
    "#     if remove_seen:\n",
    "#         scores[data > 0] = -1e13\n",
    "    return scores"
   ]
  },
  {
   "cell_type": "code",
   "execution_count": null,
   "id": "f3565359",
   "metadata": {
    "scrolled": true
   },
   "outputs": [
    {
     "name": "stderr",
     "output_type": "stream",
     "text": [
      "2022-07-13 16:07:33.306 | INFO     | __main__:fit_ease:7 - start fitting\n",
      "2022-07-13 16:07:33.308 | INFO     | __main__:fit_ease:10 - normalize\n",
      "2022-07-13 16:07:33.642 | INFO     | __main__:fit_ease:15 - gram matrix\n"
     ]
    }
   ],
   "source": [
    "item_matrix = fit_ease(data, reg_weight=367)\n",
    "scores = predict(test.toarray(), item_matrix)\n",
    "\n",
    "# with tuning\n",
    "# item_matrix, reg_weight = tune(data, test, holdout1)\n",
    "# scores = predict(test.toarray(), item_matrix)"
   ]
  },
  {
   "cell_type": "code",
   "execution_count": null,
   "id": "5b4dc000",
   "metadata": {},
   "outputs": [],
   "source": [
    "def HR(scores, holdout1, count_of_rec = 10):\n",
    "    count_of_true_rec = 0\n",
    "    pred_array = np.argsort(-scores)[:, :count_of_rec]\n",
    "    for index, row in holdout1.iterrows():\n",
    "        movie = row.movieid\n",
    "#         print(movie)\n",
    "        recommend = pred_array[index]\n",
    "        if movie in recommend:\n",
    "            count_of_true_rec += 1\n",
    "    return count_of_true_rec / len(holdout1)"
   ]
  },
  {
   "cell_type": "code",
   "execution_count": 27,
   "id": "744e2d44",
   "metadata": {},
   "outputs": [
    {
     "data": {
      "text/plain": [
       "0.02117783579924572"
      ]
     },
     "execution_count": 27,
     "metadata": {},
     "output_type": "execute_result"
    }
   ],
   "source": [
    "hr = HR(scores, holdout1)\n",
    "hr"
   ]
  },
  {
   "cell_type": "code",
   "execution_count": 23,
   "id": "4aa0ef43",
   "metadata": {},
   "outputs": [],
   "source": [
    "# def get_recommend(\n",
    "#     scores: np.matrix,\n",
    "#     count_of_rec: int = 10\n",
    "# ) -> None:\n",
    "#     \"\"\"\n",
    "#     Writes recommendations in json file\n",
    "#     \"\"\"\n",
    "#     logger.info(\"start creating recommend\")\n",
    "#     scores = np.squeeze(np.asarray(scores))\n",
    "#     recommend = {}\n",
    "\n",
    "#     list_rec = np.argsort(-scores)[:, :count_of_rec]\n",
    "\n",
    "#     users = test1.userid.unique()\n",
    "#     items = list_rec\n",
    "\n",
    "# #     for i in range(len(list_rec)):\n",
    "# #         items.append([*map(id2item.get, list(list_rec[i]))])\n",
    "#     recommend = dict(zip(users, items))\n",
    "# #     path_to_data = os.path.join(cfg.json_path, \"ease\")\n",
    "# #     if not os.path.exists(path_to_data):\n",
    "# #         os.makedirs(path_to_data)\n",
    "# #     with open(os.path.join(path_to_data, \"recommend.json\"), \"w\", encoding=\"utf-8\") as f:\n",
    "# #         json.dump(recommend, f, ensure_ascii=False, indent=2)\n",
    "# #     logger.info(\"recommendations are ready\")\n",
    "#     return recommend"
   ]
  },
  {
   "cell_type": "code",
   "execution_count": 24,
   "id": "1e4133b7",
   "metadata": {},
   "outputs": [],
   "source": [
    "# recommend = get_recommend(scores)"
   ]
  },
  {
   "cell_type": "code",
   "execution_count": null,
   "id": "7b4bfcf0",
   "metadata": {},
   "outputs": [],
   "source": []
  }
 ],
 "metadata": {
  "kernelspec": {
   "display_name": "Python 3 (ipykernel)",
   "language": "python",
   "name": "python3"
  },
  "language_info": {
   "codemirror_mode": {
    "name": "ipython",
    "version": 3
   },
   "file_extension": ".py",
   "mimetype": "text/x-python",
   "name": "python",
   "nbconvert_exporter": "python",
   "pygments_lexer": "ipython3",
   "version": "3.9.12"
  }
 },
 "nbformat": 4,
 "nbformat_minor": 5
}
